{
 "metadata": {
  "language_info": {
   "codemirror_mode": {
    "name": "ipython",
    "version": 3
   },
   "file_extension": ".py",
   "mimetype": "text/x-python",
   "name": "python",
   "nbconvert_exporter": "python",
   "pygments_lexer": "ipython3",
   "version": "3.8.5-final"
  },
  "orig_nbformat": 2,
  "kernelspec": {
   "name": "Python 3.8.5 64-bit",
   "display_name": "Python 3.8.5 64-bit",
   "metadata": {
    "interpreter": {
     "hash": "1ee38ef4a5a9feb55287fd749643f13d043cb0a7addaab2a9c224cbe137c0062"
    }
   }
  }
 },
 "nbformat": 4,
 "nbformat_minor": 2,
 "cells": [
  {
   "source": [
    "## Machine Learning Basic Workflow - 3"
   ],
   "cell_type": "markdown",
   "metadata": {}
  },
  {
   "source": [
    "### Lets play with online dataset like Digits using Scikit-learn\n",
    "#### We will use ML to classify the digits correctly"
   ],
   "cell_type": "markdown",
   "metadata": {}
  },
  {
   "cell_type": "code",
   "execution_count": 1,
   "metadata": {},
   "outputs": [],
   "source": [
    "import numpy as np\n",
    "import pandas as pd\n",
    "\n",
    "import matplotlib.pyplot as plt"
   ]
  },
  {
   "source": [
    "*** Load data ***"
   ],
   "cell_type": "markdown",
   "metadata": {}
  },
  {
   "cell_type": "code",
   "execution_count": 2,
   "metadata": {},
   "outputs": [
    {
     "output_type": "execute_result",
     "data": {
      "text/plain": [
       "numpy.ndarray"
      ]
     },
     "metadata": {},
     "execution_count": 2
    }
   ],
   "source": [
    "from sklearn.datasets import load_digits\n",
    "\n",
    "digits = load_digits()\n",
    "X = digits.data\n",
    "y = digits.target\n",
    "type(X)"
   ]
  },
  {
   "cell_type": "code",
   "execution_count": 3,
   "metadata": {},
   "outputs": [
    {
     "output_type": "stream",
     "name": "stdout",
     "text": [
      "115008\n"
     ]
    }
   ],
   "source": [
    "# This online data is already clean we can directly move ahead\n",
    "# lets see how much data though\n",
    "print(X.size)"
   ]
  },
  {
   "cell_type": "code",
   "execution_count": 4,
   "metadata": {},
   "outputs": [
    {
     "output_type": "display_data",
     "data": {
      "text/plain": "<Figure size 432x288 with 10 Axes>",
      "image/svg+xml": "<?xml version=\"1.0\" encoding=\"utf-8\" standalone=\"no\"?>\n<!DOCTYPE svg PUBLIC \"-//W3C//DTD SVG 1.1//EN\"\n  \"http://www.w3.org/Graphics/SVG/1.1/DTD/svg11.dtd\">\n<!-- Created with matplotlib (https://matplotlib.org/) -->\n<svg height=\"205.845899pt\" version=\"1.1\" viewBox=\"0 0 354.308987 205.845899\" width=\"354.308987pt\" xmlns=\"http://www.w3.org/2000/svg\" xmlns:xlink=\"http://www.w3.org/1999/xlink\">\n <metadata>\n  <rdf:RDF xmlns:cc=\"http://creativecommons.org/ns#\" xmlns:dc=\"http://purl.org/dc/elements/1.1/\" xmlns:rdf=\"http://www.w3.org/1999/02/22-rdf-syntax-ns#\">\n   <cc:Work>\n    <dc:type rdf:resource=\"http://purl.org/dc/dcmitype/StillImage\"/>\n    <dc:date>2020-10-30T22:30:09.761305</dc:date>\n    <dc:format>image/svg+xml</dc:format>\n    <dc:creator>\n     <cc:Agent>\n      <dc:title>Matplotlib v3.3.0, https://matplotlib.org/</dc:title>\n     </cc:Agent>\n    </dc:creator>\n   </cc:Work>\n  </rdf:RDF>\n </metadata>\n <defs>\n  <style type=\"text/css\">*{stroke-linecap:butt;stroke-linejoin:round;}</style>\n </defs>\n <g id=\"figure_1\">\n  <g id=\"patch_1\">\n   <path d=\"M 0 205.845899 \nL 354.308987 205.845899 \nL 354.308987 0 \nL 0 0 \nz\n\" style=\"fill:none;\"/>\n  </g>\n  <g id=\"axes_1\">\n   <g clip-path=\"url(#p078cd97c9c)\">\n    <image height=\"58\" id=\"image7390bee2dd\" transform=\"scale(1 -1)translate(0 -58)\" width=\"58\" x=\"9.754494\" xlink:href=\"data:image/png;base64,\niVBORw0KGgoAAAANSUhEUgAAADoAAAA6CAYAAADhu0ooAAABMUlEQVR4nO2aUY2FMBRE+zZrAAmABJCABSxgAQtgAQkgASyAA5AAElgFd0hKXrKZO+d3QsvJ/ZiU8rnv+w4RDMMA867rzKwsSzMbxzHmdR75+cqq/xCJsiFRNtyIflC9HMdhPlgUBVwY1c80TWa277uZresK90S4mahE2ZAoGxJl4xeFqEfRUSuEEOq6NrOqqqKyvu/hnm3bmpmbiUqUDYmy4UYU1st1XWb2dExDJEliZqi20Ps84WaiEmVDomy4EYX1gmpgnme4MLpkit3zDW4mKlE2JMqGG9Hoetm2DS6MPqxlWWZm6CLpzYnJzUQlyoZE2ZAoG7BHUW+laQoXzvPczNAF1LIsZtY0DdwT4WaiEmVDomy4EYX1gnjzPwE6/p3nGfXcE24mKlE2JMqGG9E/YD9DDJxachcAAAAASUVORK5CYII=\" y=\"-22.042263\"/>\n   </g>\n   <g id=\"text_1\">\n    <!-- Training: 0 -->\n    <g transform=\"translate(7.2 16.318125)scale(0.12 -0.12)\">\n     <defs>\n      <path d=\"M -0.296875 72.90625 \nL 61.375 72.90625 \nL 61.375 64.59375 \nL 35.5 64.59375 \nL 35.5 0 \nL 25.59375 0 \nL 25.59375 64.59375 \nL -0.296875 64.59375 \nz\n\" id=\"DejaVuSans-84\"/>\n      <path d=\"M 41.109375 46.296875 \nQ 39.59375 47.171875 37.8125 47.578125 \nQ 36.03125 48 33.890625 48 \nQ 26.265625 48 22.1875 43.046875 \nQ 18.109375 38.09375 18.109375 28.8125 \nL 18.109375 0 \nL 9.078125 0 \nL 9.078125 54.6875 \nL 18.109375 54.6875 \nL 18.109375 46.1875 \nQ 20.953125 51.171875 25.484375 53.578125 \nQ 30.03125 56 36.53125 56 \nQ 37.453125 56 38.578125 55.875 \nQ 39.703125 55.765625 41.0625 55.515625 \nz\n\" id=\"DejaVuSans-114\"/>\n      <path d=\"M 34.28125 27.484375 \nQ 23.390625 27.484375 19.1875 25 \nQ 14.984375 22.515625 14.984375 16.5 \nQ 14.984375 11.71875 18.140625 8.90625 \nQ 21.296875 6.109375 26.703125 6.109375 \nQ 34.1875 6.109375 38.703125 11.40625 \nQ 43.21875 16.703125 43.21875 25.484375 \nL 43.21875 27.484375 \nz\nM 52.203125 31.203125 \nL 52.203125 0 \nL 43.21875 0 \nL 43.21875 8.296875 \nQ 40.140625 3.328125 35.546875 0.953125 \nQ 30.953125 -1.421875 24.3125 -1.421875 \nQ 15.921875 -1.421875 10.953125 3.296875 \nQ 6 8.015625 6 15.921875 \nQ 6 25.140625 12.171875 29.828125 \nQ 18.359375 34.515625 30.609375 34.515625 \nL 43.21875 34.515625 \nL 43.21875 35.40625 \nQ 43.21875 41.609375 39.140625 45 \nQ 35.0625 48.390625 27.6875 48.390625 \nQ 23 48.390625 18.546875 47.265625 \nQ 14.109375 46.140625 10.015625 43.890625 \nL 10.015625 52.203125 \nQ 14.9375 54.109375 19.578125 55.046875 \nQ 24.21875 56 28.609375 56 \nQ 40.484375 56 46.34375 49.84375 \nQ 52.203125 43.703125 52.203125 31.203125 \nz\n\" id=\"DejaVuSans-97\"/>\n      <path d=\"M 9.421875 54.6875 \nL 18.40625 54.6875 \nL 18.40625 0 \nL 9.421875 0 \nz\nM 9.421875 75.984375 \nL 18.40625 75.984375 \nL 18.40625 64.59375 \nL 9.421875 64.59375 \nz\n\" id=\"DejaVuSans-105\"/>\n      <path d=\"M 54.890625 33.015625 \nL 54.890625 0 \nL 45.90625 0 \nL 45.90625 32.71875 \nQ 45.90625 40.484375 42.875 44.328125 \nQ 39.84375 48.1875 33.796875 48.1875 \nQ 26.515625 48.1875 22.3125 43.546875 \nQ 18.109375 38.921875 18.109375 30.90625 \nL 18.109375 0 \nL 9.078125 0 \nL 9.078125 54.6875 \nL 18.109375 54.6875 \nL 18.109375 46.1875 \nQ 21.34375 51.125 25.703125 53.5625 \nQ 30.078125 56 35.796875 56 \nQ 45.21875 56 50.046875 50.171875 \nQ 54.890625 44.34375 54.890625 33.015625 \nz\n\" id=\"DejaVuSans-110\"/>\n      <path d=\"M 45.40625 27.984375 \nQ 45.40625 37.75 41.375 43.109375 \nQ 37.359375 48.484375 30.078125 48.484375 \nQ 22.859375 48.484375 18.828125 43.109375 \nQ 14.796875 37.75 14.796875 27.984375 \nQ 14.796875 18.265625 18.828125 12.890625 \nQ 22.859375 7.515625 30.078125 7.515625 \nQ 37.359375 7.515625 41.375 12.890625 \nQ 45.40625 18.265625 45.40625 27.984375 \nz\nM 54.390625 6.78125 \nQ 54.390625 -7.171875 48.1875 -13.984375 \nQ 42 -20.796875 29.203125 -20.796875 \nQ 24.46875 -20.796875 20.265625 -20.09375 \nQ 16.0625 -19.390625 12.109375 -17.921875 \nL 12.109375 -9.1875 \nQ 16.0625 -11.328125 19.921875 -12.34375 \nQ 23.78125 -13.375 27.78125 -13.375 \nQ 36.625 -13.375 41.015625 -8.765625 \nQ 45.40625 -4.15625 45.40625 5.171875 \nL 45.40625 9.625 \nQ 42.625 4.78125 38.28125 2.390625 \nQ 33.9375 0 27.875 0 \nQ 17.828125 0 11.671875 7.65625 \nQ 5.515625 15.328125 5.515625 27.984375 \nQ 5.515625 40.671875 11.671875 48.328125 \nQ 17.828125 56 27.875 56 \nQ 33.9375 56 38.28125 53.609375 \nQ 42.625 51.21875 45.40625 46.390625 \nL 45.40625 54.6875 \nL 54.390625 54.6875 \nz\n\" id=\"DejaVuSans-103\"/>\n      <path d=\"M 11.71875 12.40625 \nL 22.015625 12.40625 \nL 22.015625 0 \nL 11.71875 0 \nz\nM 11.71875 51.703125 \nL 22.015625 51.703125 \nL 22.015625 39.3125 \nL 11.71875 39.3125 \nz\n\" id=\"DejaVuSans-58\"/>\n      <path id=\"DejaVuSans-32\"/>\n      <path d=\"M 31.78125 66.40625 \nQ 24.171875 66.40625 20.328125 58.90625 \nQ 16.5 51.421875 16.5 36.375 \nQ 16.5 21.390625 20.328125 13.890625 \nQ 24.171875 6.390625 31.78125 6.390625 \nQ 39.453125 6.390625 43.28125 13.890625 \nQ 47.125 21.390625 47.125 36.375 \nQ 47.125 51.421875 43.28125 58.90625 \nQ 39.453125 66.40625 31.78125 66.40625 \nz\nM 31.78125 74.21875 \nQ 44.046875 74.21875 50.515625 64.515625 \nQ 56.984375 54.828125 56.984375 36.375 \nQ 56.984375 17.96875 50.515625 8.265625 \nQ 44.046875 -1.421875 31.78125 -1.421875 \nQ 19.53125 -1.421875 13.0625 8.265625 \nQ 6.59375 17.96875 6.59375 36.375 \nQ 6.59375 54.828125 13.0625 64.515625 \nQ 19.53125 74.21875 31.78125 74.21875 \nz\n\" id=\"DejaVuSans-48\"/>\n     </defs>\n     <use xlink:href=\"#DejaVuSans-84\"/>\n     <use x=\"46.333984\" xlink:href=\"#DejaVuSans-114\"/>\n     <use x=\"87.447266\" xlink:href=\"#DejaVuSans-97\"/>\n     <use x=\"148.726562\" xlink:href=\"#DejaVuSans-105\"/>\n     <use x=\"176.509766\" xlink:href=\"#DejaVuSans-110\"/>\n     <use x=\"239.888672\" xlink:href=\"#DejaVuSans-105\"/>\n     <use x=\"267.671875\" xlink:href=\"#DejaVuSans-110\"/>\n     <use x=\"331.050781\" xlink:href=\"#DejaVuSans-103\"/>\n     <use x=\"394.527344\" xlink:href=\"#DejaVuSans-58\"/>\n     <use x=\"428.21875\" xlink:href=\"#DejaVuSans-32\"/>\n     <use x=\"460.005859\" xlink:href=\"#DejaVuSans-48\"/>\n    </g>\n   </g>\n  </g>\n  <g id=\"axes_2\">\n   <g clip-path=\"url(#pd395aeaa2d)\">\n    <image height=\"58\" id=\"imagef00d001587\" transform=\"scale(1 -1)translate(0 -58)\" width=\"58\" x=\"79.023459\" xlink:href=\"data:image/png;base64,\niVBORw0KGgoAAAANSUhEUgAAADoAAAA6CAYAAADhu0ooAAAA+UlEQVR4nO2ayw2EMAxElxUF0EkoATqgAyglJdABaYFOKAUqyB72bEey1ocdz7uOEvnJByufrtZaXw4syyJm53mK2bquYlZKMdfzNq/8MyiKBkXRCCPaWxfe963m2gjRmKbJtK5FmI5SFA2KokFRNCiKBkXRoCgaYUTNxzQvxnF02TdMRymKBkXRCCOqjpd938Us5/zjUr4Mw+Cyb5iOUhQNiqIRRrSz/mG4rkvNtcei53nE7DgOMdu2rVGVTJiOUhQNiqJBUTTMt4Ct2zptjmofOVrz2UqYjlIUDYqiEUbU7ZFJ+yuYUhKzeZ4dqgnUUYqiQVE0woh+AKqmKvsXjE3LAAAAAElFTkSuQmCC\" y=\"-22.042263\"/>\n   </g>\n   <g id=\"text_2\">\n    <!-- Training: 1 -->\n    <g transform=\"translate(76.468966 16.318125)scale(0.12 -0.12)\">\n     <defs>\n      <path d=\"M 12.40625 8.296875 \nL 28.515625 8.296875 \nL 28.515625 63.921875 \nL 10.984375 60.40625 \nL 10.984375 69.390625 \nL 28.421875 72.90625 \nL 38.28125 72.90625 \nL 38.28125 8.296875 \nL 54.390625 8.296875 \nL 54.390625 0 \nL 12.40625 0 \nz\n\" id=\"DejaVuSans-49\"/>\n     </defs>\n     <use xlink:href=\"#DejaVuSans-84\"/>\n     <use x=\"46.333984\" xlink:href=\"#DejaVuSans-114\"/>\n     <use x=\"87.447266\" xlink:href=\"#DejaVuSans-97\"/>\n     <use x=\"148.726562\" xlink:href=\"#DejaVuSans-105\"/>\n     <use x=\"176.509766\" xlink:href=\"#DejaVuSans-110\"/>\n     <use x=\"239.888672\" xlink:href=\"#DejaVuSans-105\"/>\n     <use x=\"267.671875\" xlink:href=\"#DejaVuSans-110\"/>\n     <use x=\"331.050781\" xlink:href=\"#DejaVuSans-103\"/>\n     <use x=\"394.527344\" xlink:href=\"#DejaVuSans-58\"/>\n     <use x=\"428.21875\" xlink:href=\"#DejaVuSans-32\"/>\n     <use x=\"460.005859\" xlink:href=\"#DejaVuSans-49\"/>\n    </g>\n   </g>\n  </g>\n  <g id=\"axes_3\">\n   <g clip-path=\"url(#pd304834322)\">\n    <image height=\"58\" id=\"image43a1cf81de\" transform=\"scale(1 -1)translate(0 -58)\" width=\"58\" x=\"148.292425\" xlink:href=\"data:image/png;base64,\niVBORw0KGgoAAAANSUhEUgAAADoAAAA6CAYAAADhu0ooAAABM0lEQVR4nO2aQQ2EMBBFh83eQQISwAEoAAk4AAngAAlIAAVYAAdIwEFXwXySkr38mXf9oe3LHH5omoQQgvyB4zjUbBxHNdu2Tc36vod7zvOsZh/4JREuyoaLsmFG9ItCVBFd18GFz/OMOY80TaNmdV1HrSliaKIuyoaLsuGibMAeXZZFzWJ7UkRkXVc1Qz36BjMTdVE2XJQNM6IJugW871v9EN24ieAKua4rKsuyDO6JMDNRF2XDRdkwIwrrBYGqRwTXyzAMalZVVdSaT5iZqIuy4aJsmBGNrhf0DkEEV0Hbtmo2TZOavXluYWaiLsqGi7LhomxE9yh6yCEiUpalmqVpqmbopg/dED5hZqIuyoaLsmFGFL5hQBRFAfN939UM/ableR53oAfMTNRF2XBRNsyI/gBiElSCiie5NAAAAABJRU5ErkJggg==\" y=\"-22.042263\"/>\n   </g>\n   <g id=\"text_3\">\n    <!-- Training: 2 -->\n    <g transform=\"translate(145.737931 16.318125)scale(0.12 -0.12)\">\n     <defs>\n      <path d=\"M 19.1875 8.296875 \nL 53.609375 8.296875 \nL 53.609375 0 \nL 7.328125 0 \nL 7.328125 8.296875 \nQ 12.9375 14.109375 22.625 23.890625 \nQ 32.328125 33.6875 34.8125 36.53125 \nQ 39.546875 41.84375 41.421875 45.53125 \nQ 43.3125 49.21875 43.3125 52.78125 \nQ 43.3125 58.59375 39.234375 62.25 \nQ 35.15625 65.921875 28.609375 65.921875 \nQ 23.96875 65.921875 18.8125 64.3125 \nQ 13.671875 62.703125 7.8125 59.421875 \nL 7.8125 69.390625 \nQ 13.765625 71.78125 18.9375 73 \nQ 24.125 74.21875 28.421875 74.21875 \nQ 39.75 74.21875 46.484375 68.546875 \nQ 53.21875 62.890625 53.21875 53.421875 \nQ 53.21875 48.921875 51.53125 44.890625 \nQ 49.859375 40.875 45.40625 35.40625 \nQ 44.1875 33.984375 37.640625 27.21875 \nQ 31.109375 20.453125 19.1875 8.296875 \nz\n\" id=\"DejaVuSans-50\"/>\n     </defs>\n     <use xlink:href=\"#DejaVuSans-84\"/>\n     <use x=\"46.333984\" xlink:href=\"#DejaVuSans-114\"/>\n     <use x=\"87.447266\" xlink:href=\"#DejaVuSans-97\"/>\n     <use x=\"148.726562\" xlink:href=\"#DejaVuSans-105\"/>\n     <use x=\"176.509766\" xlink:href=\"#DejaVuSans-110\"/>\n     <use x=\"239.888672\" xlink:href=\"#DejaVuSans-105\"/>\n     <use x=\"267.671875\" xlink:href=\"#DejaVuSans-110\"/>\n     <use x=\"331.050781\" xlink:href=\"#DejaVuSans-103\"/>\n     <use x=\"394.527344\" xlink:href=\"#DejaVuSans-58\"/>\n     <use x=\"428.21875\" xlink:href=\"#DejaVuSans-32\"/>\n     <use x=\"460.005859\" xlink:href=\"#DejaVuSans-50\"/>\n    </g>\n   </g>\n  </g>\n  <g id=\"axes_4\">\n   <g clip-path=\"url(#p5f2271e4a6)\">\n    <image height=\"58\" id=\"imageaf77e2b436\" transform=\"scale(1 -1)translate(0 -58)\" width=\"58\" x=\"217.56139\" xlink:href=\"data:image/png;base64,\niVBORw0KGgoAAAANSUhEUgAAADoAAAA6CAYAAADhu0ooAAABGklEQVR4nO2aUY2FUAxE+zZrAAkECVgAK2ABCSABJKABK2ABCayCO2wm+7PTOb/NLZw0YdIbPs/zPEGwLAusr+vKtI2+7/+8Z0TEF33yn2FRNSyqRhrRb/bgfd+wvm0bdXYYBvaVYPykmahF1bCoGhZVg87ReZ7ph6IcRWtaVVX0M9NM1KJqWFSNNKIf9hbwDRQhXddRPY/jgHUUP2kmalE1LKpGGlF6e7muC9abpinWULzs+16seXv5BRZVw6JqpBGF8YIi5O1TX9d1sXaeJ92XJc1ELaqGRdWwqBowR9EPF2idioiYpqlYG8exWEM3feztYUSiiVpUDYuqkUYUxgv6T+FtnUIRgla4tm1hX5Y0E7WoGhZVI43oD5U7PaIpngaPAAAAAElFTkSuQmCC\" y=\"-22.042263\"/>\n   </g>\n   <g id=\"text_4\">\n    <!-- Training: 3 -->\n    <g transform=\"translate(215.006897 16.318125)scale(0.12 -0.12)\">\n     <defs>\n      <path d=\"M 40.578125 39.3125 \nQ 47.65625 37.796875 51.625 33 \nQ 55.609375 28.21875 55.609375 21.1875 \nQ 55.609375 10.40625 48.1875 4.484375 \nQ 40.765625 -1.421875 27.09375 -1.421875 \nQ 22.515625 -1.421875 17.65625 -0.515625 \nQ 12.796875 0.390625 7.625 2.203125 \nL 7.625 11.71875 \nQ 11.71875 9.328125 16.59375 8.109375 \nQ 21.484375 6.890625 26.8125 6.890625 \nQ 36.078125 6.890625 40.9375 10.546875 \nQ 45.796875 14.203125 45.796875 21.1875 \nQ 45.796875 27.640625 41.28125 31.265625 \nQ 36.765625 34.90625 28.71875 34.90625 \nL 20.21875 34.90625 \nL 20.21875 43.015625 \nL 29.109375 43.015625 \nQ 36.375 43.015625 40.234375 45.921875 \nQ 44.09375 48.828125 44.09375 54.296875 \nQ 44.09375 59.90625 40.109375 62.90625 \nQ 36.140625 65.921875 28.71875 65.921875 \nQ 24.65625 65.921875 20.015625 65.03125 \nQ 15.375 64.15625 9.8125 62.3125 \nL 9.8125 71.09375 \nQ 15.4375 72.65625 20.34375 73.4375 \nQ 25.25 74.21875 29.59375 74.21875 \nQ 40.828125 74.21875 47.359375 69.109375 \nQ 53.90625 64.015625 53.90625 55.328125 \nQ 53.90625 49.265625 50.4375 45.09375 \nQ 46.96875 40.921875 40.578125 39.3125 \nz\n\" id=\"DejaVuSans-51\"/>\n     </defs>\n     <use xlink:href=\"#DejaVuSans-84\"/>\n     <use x=\"46.333984\" xlink:href=\"#DejaVuSans-114\"/>\n     <use x=\"87.447266\" xlink:href=\"#DejaVuSans-97\"/>\n     <use x=\"148.726562\" xlink:href=\"#DejaVuSans-105\"/>\n     <use x=\"176.509766\" xlink:href=\"#DejaVuSans-110\"/>\n     <use x=\"239.888672\" xlink:href=\"#DejaVuSans-105\"/>\n     <use x=\"267.671875\" xlink:href=\"#DejaVuSans-110\"/>\n     <use x=\"331.050781\" xlink:href=\"#DejaVuSans-103\"/>\n     <use x=\"394.527344\" xlink:href=\"#DejaVuSans-58\"/>\n     <use x=\"428.21875\" xlink:href=\"#DejaVuSans-32\"/>\n     <use x=\"460.005859\" xlink:href=\"#DejaVuSans-51\"/>\n    </g>\n   </g>\n  </g>\n  <g id=\"axes_5\">\n   <g clip-path=\"url(#p8652d6e440)\">\n    <image height=\"58\" id=\"image0245b36ccb\" transform=\"scale(1 -1)translate(0 -58)\" width=\"58\" x=\"286.830356\" xlink:href=\"data:image/png;base64,\niVBORw0KGgoAAAANSUhEUgAAADoAAAA6CAYAAADhu0ooAAABL0lEQVR4nO2aS5GFQAxF01OzBwmgAAs4AAfgACTgAAtIwAFYwAEOAAWMglxe9SsWk9yzvdWfU1mk+hPu+77lBfZ9V7M8z9VsWRY1K8syej8/0SP/GRS1BkWt4Ub0962Jz/NUsyRJ1GyaJjVje/kAilqDotagqDUCOqat66oOrOsaTnxdl5oVRaFm27ap2XEccM00TdXMTUUpag2KWsONKDymoRaBMhGRpmnUDB3FQghqNs8zXLNtWzVzU1GKWoOi1nAjCttLVVVqNo4jnHgYhqgNdV2nZujh6gk3FaWoNShqDTei8HIMgR6RRPCDUN/3UeOeyLJMzdxUlKLWoKg1KGqN6M8a6EFHBN/IoeMW6oXf4KaiFLUGRa3hRvS1v4CovaDsLdxUlKLWoKg13Ij+AZrQRHrZ2vsXAAAAAElFTkSuQmCC\" y=\"-22.042263\"/>\n   </g>\n   <g id=\"text_5\">\n    <!-- Training: 4 -->\n    <g transform=\"translate(284.275862 16.318125)scale(0.12 -0.12)\">\n     <defs>\n      <path d=\"M 37.796875 64.3125 \nL 12.890625 25.390625 \nL 37.796875 25.390625 \nz\nM 35.203125 72.90625 \nL 47.609375 72.90625 \nL 47.609375 25.390625 \nL 58.015625 25.390625 \nL 58.015625 17.1875 \nL 47.609375 17.1875 \nL 47.609375 0 \nL 37.796875 0 \nL 37.796875 17.1875 \nL 4.890625 17.1875 \nL 4.890625 26.703125 \nz\n\" id=\"DejaVuSans-52\"/>\n     </defs>\n     <use xlink:href=\"#DejaVuSans-84\"/>\n     <use x=\"46.333984\" xlink:href=\"#DejaVuSans-114\"/>\n     <use x=\"87.447266\" xlink:href=\"#DejaVuSans-97\"/>\n     <use x=\"148.726562\" xlink:href=\"#DejaVuSans-105\"/>\n     <use x=\"176.509766\" xlink:href=\"#DejaVuSans-110\"/>\n     <use x=\"239.888672\" xlink:href=\"#DejaVuSans-105\"/>\n     <use x=\"267.671875\" xlink:href=\"#DejaVuSans-110\"/>\n     <use x=\"331.050781\" xlink:href=\"#DejaVuSans-103\"/>\n     <use x=\"394.527344\" xlink:href=\"#DejaVuSans-58\"/>\n     <use x=\"428.21875\" xlink:href=\"#DejaVuSans-32\"/>\n     <use x=\"460.005859\" xlink:href=\"#DejaVuSans-52\"/>\n    </g>\n   </g>\n  </g>\n  <g id=\"axes_6\">\n   <g clip-path=\"url(#pdd214f5e08)\">\n    <image height=\"58\" id=\"image6341954d93\" transform=\"scale(1 -1)translate(0 -58)\" width=\"58\" x=\"9.754494\" xlink:href=\"data:image/png;base64,\niVBORw0KGgoAAAANSUhEUgAAADoAAAA6CAYAAADhu0ooAAABI0lEQVR4nO2aQQ2EQBAE9y73BwlIAQc4QAJIwAHgAAsoABwgAQmgYE/BzCZD7nE9Xd8OQyrz6LDLK8YYg4Gu69R8mibL2NA0jZjN82yaGUIIb/OTfwZF0aAoGm5EX9Z6WZZFzbMsE7O+78Vs33cxW9dVfWdZlmLmZqMURYOiaFAUDXOPPmHbNjGrqkrM2rZV547jKGZuNkpRNCiKhhvRz68GaxVyHIdpZlEUpudCcLRRiqJBUTTciJrrpa5rNU+dEkoMwyBmqYstDTcbpSgaFEXDjai5Xs7zNL9Uu4DSvmyu61Ln5nkuZm42SlE0KIoGRdEw92iq0zTu+xYz7fRQ68kUbjZKUTQoioYbUXO9pC58tP/ynvwybsXNRimKBkXRcCP6BeQfP9CWC8fqAAAAAElFTkSuQmCC\" y=\"-140.645899\"/>\n   </g>\n   <g id=\"text_6\">\n    <!-- Training: 5 -->\n    <g transform=\"translate(7.2 134.921761)scale(0.12 -0.12)\">\n     <defs>\n      <path d=\"M 10.796875 72.90625 \nL 49.515625 72.90625 \nL 49.515625 64.59375 \nL 19.828125 64.59375 \nL 19.828125 46.734375 \nQ 21.96875 47.46875 24.109375 47.828125 \nQ 26.265625 48.1875 28.421875 48.1875 \nQ 40.625 48.1875 47.75 41.5 \nQ 54.890625 34.8125 54.890625 23.390625 \nQ 54.890625 11.625 47.5625 5.09375 \nQ 40.234375 -1.421875 26.90625 -1.421875 \nQ 22.3125 -1.421875 17.546875 -0.640625 \nQ 12.796875 0.140625 7.71875 1.703125 \nL 7.71875 11.625 \nQ 12.109375 9.234375 16.796875 8.0625 \nQ 21.484375 6.890625 26.703125 6.890625 \nQ 35.15625 6.890625 40.078125 11.328125 \nQ 45.015625 15.765625 45.015625 23.390625 \nQ 45.015625 31 40.078125 35.4375 \nQ 35.15625 39.890625 26.703125 39.890625 \nQ 22.75 39.890625 18.8125 39.015625 \nQ 14.890625 38.140625 10.796875 36.28125 \nz\n\" id=\"DejaVuSans-53\"/>\n     </defs>\n     <use xlink:href=\"#DejaVuSans-84\"/>\n     <use x=\"46.333984\" xlink:href=\"#DejaVuSans-114\"/>\n     <use x=\"87.447266\" xlink:href=\"#DejaVuSans-97\"/>\n     <use x=\"148.726562\" xlink:href=\"#DejaVuSans-105\"/>\n     <use x=\"176.509766\" xlink:href=\"#DejaVuSans-110\"/>\n     <use x=\"239.888672\" xlink:href=\"#DejaVuSans-105\"/>\n     <use x=\"267.671875\" xlink:href=\"#DejaVuSans-110\"/>\n     <use x=\"331.050781\" xlink:href=\"#DejaVuSans-103\"/>\n     <use x=\"394.527344\" xlink:href=\"#DejaVuSans-58\"/>\n     <use x=\"428.21875\" xlink:href=\"#DejaVuSans-32\"/>\n     <use x=\"460.005859\" xlink:href=\"#DejaVuSans-53\"/>\n    </g>\n   </g>\n  </g>\n  <g id=\"axes_7\">\n   <g clip-path=\"url(#p3f894cba8d)\">\n    <image height=\"58\" id=\"image4fb4e23389\" transform=\"scale(1 -1)translate(0 -58)\" width=\"58\" x=\"79.023459\" xlink:href=\"data:image/png;base64,\niVBORw0KGgoAAAANSUhEUgAAADoAAAA6CAYAAADhu0ooAAABEElEQVR4nO2aUQ2EQAxEy+UEIAEJSMABSAIJOEACEpAADpAACvYUdEhK7mc673fCbV6a3GSbrUopxQJc1wXzcRzdbFkWN+u6LvSbZmZt27rZB35JhETZkCgbaUS/0Q9RRZiZzfPsZn3fu9m2bW62ris8U/ViEuVDomxIlI2/9SjiPE83u+/bzYZhCJ+ZZqISZUOibKQRraJbwLquYY6uTKgmUNY0DTwTkWaiEmVDomykEQ3Xy9NfPaqffd8jR74izUQlyoZE2UgjGl6OPd1ejuNwM1Qv6NbzhjQTlSgbEmVDomyEe3SaJpijbR56dKEefYlE2ZAoG2lEw1vAJ9CTcfRM/V8bwjQTlSgbEmUjjegPDOhBwtzG94MAAAAASUVORK5CYII=\" y=\"-140.645899\"/>\n   </g>\n   <g id=\"text_7\">\n    <!-- Training: 6 -->\n    <g transform=\"translate(76.468966 134.921761)scale(0.12 -0.12)\">\n     <defs>\n      <path d=\"M 33.015625 40.375 \nQ 26.375 40.375 22.484375 35.828125 \nQ 18.609375 31.296875 18.609375 23.390625 \nQ 18.609375 15.53125 22.484375 10.953125 \nQ 26.375 6.390625 33.015625 6.390625 \nQ 39.65625 6.390625 43.53125 10.953125 \nQ 47.40625 15.53125 47.40625 23.390625 \nQ 47.40625 31.296875 43.53125 35.828125 \nQ 39.65625 40.375 33.015625 40.375 \nz\nM 52.59375 71.296875 \nL 52.59375 62.3125 \nQ 48.875 64.0625 45.09375 64.984375 \nQ 41.3125 65.921875 37.59375 65.921875 \nQ 27.828125 65.921875 22.671875 59.328125 \nQ 17.53125 52.734375 16.796875 39.40625 \nQ 19.671875 43.65625 24.015625 45.921875 \nQ 28.375 48.1875 33.59375 48.1875 \nQ 44.578125 48.1875 50.953125 41.515625 \nQ 57.328125 34.859375 57.328125 23.390625 \nQ 57.328125 12.15625 50.6875 5.359375 \nQ 44.046875 -1.421875 33.015625 -1.421875 \nQ 20.359375 -1.421875 13.671875 8.265625 \nQ 6.984375 17.96875 6.984375 36.375 \nQ 6.984375 53.65625 15.1875 63.9375 \nQ 23.390625 74.21875 37.203125 74.21875 \nQ 40.921875 74.21875 44.703125 73.484375 \nQ 48.484375 72.75 52.59375 71.296875 \nz\n\" id=\"DejaVuSans-54\"/>\n     </defs>\n     <use xlink:href=\"#DejaVuSans-84\"/>\n     <use x=\"46.333984\" xlink:href=\"#DejaVuSans-114\"/>\n     <use x=\"87.447266\" xlink:href=\"#DejaVuSans-97\"/>\n     <use x=\"148.726562\" xlink:href=\"#DejaVuSans-105\"/>\n     <use x=\"176.509766\" xlink:href=\"#DejaVuSans-110\"/>\n     <use x=\"239.888672\" xlink:href=\"#DejaVuSans-105\"/>\n     <use x=\"267.671875\" xlink:href=\"#DejaVuSans-110\"/>\n     <use x=\"331.050781\" xlink:href=\"#DejaVuSans-103\"/>\n     <use x=\"394.527344\" xlink:href=\"#DejaVuSans-58\"/>\n     <use x=\"428.21875\" xlink:href=\"#DejaVuSans-32\"/>\n     <use x=\"460.005859\" xlink:href=\"#DejaVuSans-54\"/>\n    </g>\n   </g>\n  </g>\n  <g id=\"axes_8\">\n   <g clip-path=\"url(#p57b05d67a9)\">\n    <image height=\"58\" id=\"imageae6163f53b\" transform=\"scale(1 -1)translate(0 -58)\" width=\"58\" x=\"148.292425\" xlink:href=\"data:image/png;base64,\niVBORw0KGgoAAAANSUhEUgAAADoAAAA6CAYAAADhu0ooAAABFklEQVR4nO2aUQ2EQAxEdy/3D1KQgANwABKwgAOkIAELOEACDvYUdDYpubtkOu93QpeXfjTNbi6llOSg6zqYr+tqZsMweI58xOvnJ/4JibIhUTbCiL69H/Z9D/Npmszsui4za9vW90MVwnRUomxIlA2JspG9a1q1cM5mtu+7mX1rhQvTUYmyIVE2wojC8YLWqWVZYOHjOFw/hEZPbTVEhOmoRNmQKBthROF4QSPCOz5SSmnbtq98N8+zmYXpqETZkCgbYUThJRPaFp5sEgi0vYzj6K4bpqMSZUOibEiUDfclk3fVSgm/I0R17/uGddHqGKajEmVDomyEEXW/BayBRgG6oDrP08yapnGfGaajEmVDomyEEf0AXddIHyMCcw4AAAAASUVORK5CYII=\" y=\"-140.645899\"/>\n   </g>\n   <g id=\"text_8\">\n    <!-- Training: 7 -->\n    <g transform=\"translate(145.737931 134.921761)scale(0.12 -0.12)\">\n     <defs>\n      <path d=\"M 8.203125 72.90625 \nL 55.078125 72.90625 \nL 55.078125 68.703125 \nL 28.609375 0 \nL 18.3125 0 \nL 43.21875 64.59375 \nL 8.203125 64.59375 \nz\n\" id=\"DejaVuSans-55\"/>\n     </defs>\n     <use xlink:href=\"#DejaVuSans-84\"/>\n     <use x=\"46.333984\" xlink:href=\"#DejaVuSans-114\"/>\n     <use x=\"87.447266\" xlink:href=\"#DejaVuSans-97\"/>\n     <use x=\"148.726562\" xlink:href=\"#DejaVuSans-105\"/>\n     <use x=\"176.509766\" xlink:href=\"#DejaVuSans-110\"/>\n     <use x=\"239.888672\" xlink:href=\"#DejaVuSans-105\"/>\n     <use x=\"267.671875\" xlink:href=\"#DejaVuSans-110\"/>\n     <use x=\"331.050781\" xlink:href=\"#DejaVuSans-103\"/>\n     <use x=\"394.527344\" xlink:href=\"#DejaVuSans-58\"/>\n     <use x=\"428.21875\" xlink:href=\"#DejaVuSans-32\"/>\n     <use x=\"460.005859\" xlink:href=\"#DejaVuSans-55\"/>\n    </g>\n   </g>\n  </g>\n  <g id=\"axes_9\">\n   <g clip-path=\"url(#p9f703ad902)\">\n    <image height=\"58\" id=\"imageeea04c8b0d\" transform=\"scale(1 -1)translate(0 -58)\" width=\"58\" x=\"217.56139\" xlink:href=\"data:image/png;base64,\niVBORw0KGgoAAAANSUhEUgAAADoAAAA6CAYAAADhu0ooAAABL0lEQVR4nO2aQRGEMBAEc1f3Bwk4ABQADnAAEnAAEpCABRzgBCSAAk7BTqrynJ3+TiWhax9bm/B53/cNCfR9D/N9380syzIza9vWzLZtg2fmeW5mX7iSCImyIVE23Ih+UHu579tcWBQF3Pi6rqSsrmszm+cZnrksi5m5qahE2ZAoGxJl44dC1O+e54Ebr+uatG9ZlmY2jiM8E+GmohJlQ6JsuBGFYxriOA6Yd12Xsm04z9PMYqMhwk1FJcqGRNlwIwqnFwR60InRNI2ZoUemWEtD7cdNRSXKhkTZcCOa3F5i/xMMw5C0FrUtdKkWgtpLCEGifEiUDYmykXwLiMapEOI9zwL1wtiYhnBTUYmyIVE23Igmj2lVVcEctRf0L8I0TUnfE8NNRSXKhkTZcCP6B4ZqS9O1zuq7AAAAAElFTkSuQmCC\" y=\"-140.645899\"/>\n   </g>\n   <g id=\"text_9\">\n    <!-- Training: 8 -->\n    <g transform=\"translate(215.006897 134.921761)scale(0.12 -0.12)\">\n     <defs>\n      <path d=\"M 31.78125 34.625 \nQ 24.75 34.625 20.71875 30.859375 \nQ 16.703125 27.09375 16.703125 20.515625 \nQ 16.703125 13.921875 20.71875 10.15625 \nQ 24.75 6.390625 31.78125 6.390625 \nQ 38.8125 6.390625 42.859375 10.171875 \nQ 46.921875 13.96875 46.921875 20.515625 \nQ 46.921875 27.09375 42.890625 30.859375 \nQ 38.875 34.625 31.78125 34.625 \nz\nM 21.921875 38.8125 \nQ 15.578125 40.375 12.03125 44.71875 \nQ 8.5 49.078125 8.5 55.328125 \nQ 8.5 64.0625 14.71875 69.140625 \nQ 20.953125 74.21875 31.78125 74.21875 \nQ 42.671875 74.21875 48.875 69.140625 \nQ 55.078125 64.0625 55.078125 55.328125 \nQ 55.078125 49.078125 51.53125 44.71875 \nQ 48 40.375 41.703125 38.8125 \nQ 48.828125 37.15625 52.796875 32.3125 \nQ 56.78125 27.484375 56.78125 20.515625 \nQ 56.78125 9.90625 50.3125 4.234375 \nQ 43.84375 -1.421875 31.78125 -1.421875 \nQ 19.734375 -1.421875 13.25 4.234375 \nQ 6.78125 9.90625 6.78125 20.515625 \nQ 6.78125 27.484375 10.78125 32.3125 \nQ 14.796875 37.15625 21.921875 38.8125 \nz\nM 18.3125 54.390625 \nQ 18.3125 48.734375 21.84375 45.5625 \nQ 25.390625 42.390625 31.78125 42.390625 \nQ 38.140625 42.390625 41.71875 45.5625 \nQ 45.3125 48.734375 45.3125 54.390625 \nQ 45.3125 60.0625 41.71875 63.234375 \nQ 38.140625 66.40625 31.78125 66.40625 \nQ 25.390625 66.40625 21.84375 63.234375 \nQ 18.3125 60.0625 18.3125 54.390625 \nz\n\" id=\"DejaVuSans-56\"/>\n     </defs>\n     <use xlink:href=\"#DejaVuSans-84\"/>\n     <use x=\"46.333984\" xlink:href=\"#DejaVuSans-114\"/>\n     <use x=\"87.447266\" xlink:href=\"#DejaVuSans-97\"/>\n     <use x=\"148.726562\" xlink:href=\"#DejaVuSans-105\"/>\n     <use x=\"176.509766\" xlink:href=\"#DejaVuSans-110\"/>\n     <use x=\"239.888672\" xlink:href=\"#DejaVuSans-105\"/>\n     <use x=\"267.671875\" xlink:href=\"#DejaVuSans-110\"/>\n     <use x=\"331.050781\" xlink:href=\"#DejaVuSans-103\"/>\n     <use x=\"394.527344\" xlink:href=\"#DejaVuSans-58\"/>\n     <use x=\"428.21875\" xlink:href=\"#DejaVuSans-32\"/>\n     <use x=\"460.005859\" xlink:href=\"#DejaVuSans-56\"/>\n    </g>\n   </g>\n  </g>\n  <g id=\"axes_10\">\n   <g clip-path=\"url(#p2fc9ae458c)\">\n    <image height=\"58\" id=\"imagead252826e8\" transform=\"scale(1 -1)translate(0 -58)\" width=\"58\" x=\"286.830356\" xlink:href=\"data:image/png;base64,\niVBORw0KGgoAAAANSUhEUgAAADoAAAA6CAYAAADhu0ooAAABFUlEQVR4nO2aUQ2EQAxEywUhoAAkIAEnIAkJSEACOMABONhT0NnLEj5uOu+3WcpLPyZbqFJKyQqY5xnW9313a/d9u7VlWdxa3/ewJ+JTfPLPkCgbEmUjjGhVGi9PQNGE4mVdV/jcYRjcWpiJSpQNibIhUTZey1F0TUPXLZSx53nCnihnw0xUomxIlI0wonXpwdxG7jgOtzZNk1tD1zQUWTnCTFSibEiUjTCiMF7QxyAUH2Zm13W5tXEc4VmPpmmKzpkFmqhE2ZAoG2FEYbzkllEIFCEoJp70RISZqETZkCgbEmUDfmRCmda27RvvY13XuTVtAX9AomxIlI0wosX/MOQ2eWiDuG1bSctHhJmoRNmQKBthRL9sbFDyP8sUXQAAAABJRU5ErkJggg==\" y=\"-140.645899\"/>\n   </g>\n   <g id=\"text_10\">\n    <!-- Training: 9 -->\n    <g transform=\"translate(284.275862 134.921761)scale(0.12 -0.12)\">\n     <defs>\n      <path d=\"M 10.984375 1.515625 \nL 10.984375 10.5 \nQ 14.703125 8.734375 18.5 7.8125 \nQ 22.3125 6.890625 25.984375 6.890625 \nQ 35.75 6.890625 40.890625 13.453125 \nQ 46.046875 20.015625 46.78125 33.40625 \nQ 43.953125 29.203125 39.59375 26.953125 \nQ 35.25 24.703125 29.984375 24.703125 \nQ 19.046875 24.703125 12.671875 31.3125 \nQ 6.296875 37.9375 6.296875 49.421875 \nQ 6.296875 60.640625 12.9375 67.421875 \nQ 19.578125 74.21875 30.609375 74.21875 \nQ 43.265625 74.21875 49.921875 64.515625 \nQ 56.59375 54.828125 56.59375 36.375 \nQ 56.59375 19.140625 48.40625 8.859375 \nQ 40.234375 -1.421875 26.421875 -1.421875 \nQ 22.703125 -1.421875 18.890625 -0.6875 \nQ 15.09375 0.046875 10.984375 1.515625 \nz\nM 30.609375 32.421875 \nQ 37.25 32.421875 41.125 36.953125 \nQ 45.015625 41.5 45.015625 49.421875 \nQ 45.015625 57.28125 41.125 61.84375 \nQ 37.25 66.40625 30.609375 66.40625 \nQ 23.96875 66.40625 20.09375 61.84375 \nQ 16.21875 57.28125 16.21875 49.421875 \nQ 16.21875 41.5 20.09375 36.953125 \nQ 23.96875 32.421875 30.609375 32.421875 \nz\n\" id=\"DejaVuSans-57\"/>\n     </defs>\n     <use xlink:href=\"#DejaVuSans-84\"/>\n     <use x=\"46.333984\" xlink:href=\"#DejaVuSans-114\"/>\n     <use x=\"87.447266\" xlink:href=\"#DejaVuSans-97\"/>\n     <use x=\"148.726562\" xlink:href=\"#DejaVuSans-105\"/>\n     <use x=\"176.509766\" xlink:href=\"#DejaVuSans-110\"/>\n     <use x=\"239.888672\" xlink:href=\"#DejaVuSans-105\"/>\n     <use x=\"267.671875\" xlink:href=\"#DejaVuSans-110\"/>\n     <use x=\"331.050781\" xlink:href=\"#DejaVuSans-103\"/>\n     <use x=\"394.527344\" xlink:href=\"#DejaVuSans-58\"/>\n     <use x=\"428.21875\" xlink:href=\"#DejaVuSans-32\"/>\n     <use x=\"460.005859\" xlink:href=\"#DejaVuSans-57\"/>\n    </g>\n   </g>\n  </g>\n </g>\n <defs>\n  <clipPath id=\"p078cd97c9c\">\n   <rect height=\"57.724138\" width=\"57.724138\" x=\"9.754494\" y=\"22.318125\"/>\n  </clipPath>\n  <clipPath id=\"pd395aeaa2d\">\n   <rect height=\"57.724138\" width=\"57.724138\" x=\"79.023459\" y=\"22.318125\"/>\n  </clipPath>\n  <clipPath id=\"pd304834322\">\n   <rect height=\"57.724138\" width=\"57.724138\" x=\"148.292425\" y=\"22.318125\"/>\n  </clipPath>\n  <clipPath id=\"p5f2271e4a6\">\n   <rect height=\"57.724138\" width=\"57.724138\" x=\"217.56139\" y=\"22.318125\"/>\n  </clipPath>\n  <clipPath id=\"p8652d6e440\">\n   <rect height=\"57.724138\" width=\"57.724138\" x=\"286.830356\" y=\"22.318125\"/>\n  </clipPath>\n  <clipPath id=\"pdd214f5e08\">\n   <rect height=\"57.724138\" width=\"57.724138\" x=\"9.754494\" y=\"140.921761\"/>\n  </clipPath>\n  <clipPath id=\"p3f894cba8d\">\n   <rect height=\"57.724138\" width=\"57.724138\" x=\"79.023459\" y=\"140.921761\"/>\n  </clipPath>\n  <clipPath id=\"p57b05d67a9\">\n   <rect height=\"57.724138\" width=\"57.724138\" x=\"148.292425\" y=\"140.921761\"/>\n  </clipPath>\n  <clipPath id=\"p9f703ad902\">\n   <rect height=\"57.724138\" width=\"57.724138\" x=\"217.56139\" y=\"140.921761\"/>\n  </clipPath>\n  <clipPath id=\"p2fc9ae458c\">\n   <rect height=\"57.724138\" width=\"57.724138\" x=\"286.830356\" y=\"140.921761\"/>\n  </clipPath>\n </defs>\n</svg>\n",
      "image/png": "[encoded data removed]"
     },
     "metadata": {
      "needs_background": "light"
     }
    }
   ],
   "source": [
    "### Let's check FIRST 10 images in the dataset\n",
    "images_and_labels = list(zip(digits.images, digits.target))\n",
    "\n",
    "for index, (image, label) in enumerate(images_and_labels[:10]):\n",
    "    plt.subplot(2, 5, index + 1)\n",
    "    plt.axis('off')\n",
    "    plt.imshow(image, cmap=plt.cm.gray_r, interpolation='nearest')\n",
    "    plt.title('Training: %i' % label)"
   ]
  },
  {
   "source": [
    "*** Split data - Train/Test dataset ***"
   ],
   "cell_type": "markdown",
   "metadata": {}
  },
  {
   "cell_type": "code",
   "execution_count": 5,
   "metadata": {},
   "outputs": [
    {
     "output_type": "stream",
     "name": "stdout",
     "text": [
      "86208\n"
     ]
    }
   ],
   "source": [
    "from sklearn.model_selection import train_test_split\n",
    "\n",
    "X_train, X_test, y_train, y_test = train_test_split(X, y)\n",
    "print(X_train.size)"
   ]
  },
  {
   "source": [
    "*** Run-1 ML algorithm data***"
   ],
   "cell_type": "markdown",
   "metadata": {}
  },
  {
   "cell_type": "code",
   "execution_count": 6,
   "metadata": {},
   "outputs": [],
   "source": [
    "# Let's based our first model based on Decision Tree\n",
    "# Ignore details or syntax for now\n",
    "from sklearn import tree\n",
    "\n",
    "clf = tree.DecisionTreeClassifier()\n",
    "clf = clf.fit(X_train, y_train)"
   ]
  },
  {
   "source": [
    "***Check the accuracy of model-1***"
   ],
   "cell_type": "markdown",
   "metadata": {}
  },
  {
   "cell_type": "code",
   "execution_count": 7,
   "metadata": {},
   "outputs": [
    {
     "output_type": "stream",
     "name": "stdout",
     "text": [
      "Decision Tree score: 0.849\n"
     ]
    }
   ],
   "source": [
    "from sklearn.metrics import accuracy_score\n",
    "\n",
    "y_pred = clf.predict(X_test)\n",
    "print( \"Decision Tree score: %.3f\" % (accuracy_score(y_test, y_pred)))"
   ]
  },
  {
   "source": [
    "*** Run-2 ML algorithm data ***"
   ],
   "cell_type": "markdown",
   "metadata": {}
  },
  {
   "cell_type": "code",
   "execution_count": 8,
   "metadata": {},
   "outputs": [
    {
     "output_type": "execute_result",
     "data": {
      "text/plain": [
       "KNeighborsClassifier()"
      ]
     },
     "metadata": {},
     "execution_count": 8
    }
   ],
   "source": [
    "# Let's check with another classifier - model based on KN\n",
    "# Ignore details or syntax for now\n",
    "from sklearn.neighbors import KNeighborsClassifier\n",
    "\n",
    "kclf = KNeighborsClassifier(n_neighbors=5)\n",
    "kclf.fit(X_train,y_train)"
   ]
  },
  {
   "source": [
    "*** Check the accuracy of model-2 ***"
   ],
   "cell_type": "markdown",
   "metadata": {}
  },
  {
   "cell_type": "code",
   "execution_count": 9,
   "metadata": {},
   "outputs": [
    {
     "output_type": "stream",
     "name": "stdout",
     "text": [
      "Nearest neighbors: 0.984\n"
     ]
    }
   ],
   "source": [
    "y_pred = kclf.predict(X_test)\n",
    "print( \"Nearest neighbors: %.3f\" %(accuracy_score(y_test, y_pred)))"
   ]
  },
  {
   "cell_type": "code",
   "execution_count": 10,
   "metadata": {},
   "outputs": [],
   "source": [
    "# So we do have clear improvement of accuracy with model change itself. We will cover details of model selection later. \n",
    "# Let's analyze the result if this is really good or not?"
   ]
  },
  {
   "source": [
    "*** Classification Report ***"
   ],
   "cell_type": "markdown",
   "metadata": {}
  },
  {
   "cell_type": "code",
   "execution_count": 11,
   "metadata": {},
   "outputs": [
    {
     "output_type": "stream",
     "name": "stdout",
     "text": [
      "Classification report for classifier DecisionTreeClassifier():\n              precision    recall  f1-score   support\n\n           0       1.00      1.00      1.00        46\n           1       0.93      0.98      0.95        41\n           2       1.00      1.00      1.00        47\n           3       0.98      1.00      0.99        42\n           4       0.98      0.98      0.98        52\n           5       0.96      1.00      0.98        46\n           6       1.00      1.00      1.00        52\n           7       1.00      1.00      1.00        40\n           8       1.00      0.92      0.96        39\n           9       1.00      0.96      0.98        45\n\n    accuracy                           0.98       450\n   macro avg       0.98      0.98      0.98       450\nweighted avg       0.98      0.98      0.98       450\n\n\n"
     ]
    }
   ],
   "source": [
    "from sklearn import metrics\n",
    "\n",
    "print(\"Classification report for classifier %s:\\n%s\\n\" % (clf, metrics.classification_report(y_test, y_pred)))"
   ]
  },
  {
   "source": [
    "*** Confused Digits ***"
   ],
   "cell_type": "markdown",
   "metadata": {}
  },
  {
   "cell_type": "code",
   "execution_count": 12,
   "metadata": {},
   "outputs": [
    {
     "output_type": "stream",
     "name": "stdout",
     "text": [
      "Confusion matrix:\n[[46  0  0  0  0  0  0  0  0  0]\n [ 0 40  0  0  0  1  0  0  0  0]\n [ 0  0 47  0  0  0  0  0  0  0]\n [ 0  0  0 42  0  0  0  0  0  0]\n [ 0  1  0  0 51  0  0  0  0  0]\n [ 0  0  0  0  0 46  0  0  0  0]\n [ 0  0  0  0  0  0 52  0  0  0]\n [ 0  0  0  0  0  0  0 40  0  0]\n [ 0  2  0  1  0  0  0  0 36  0]\n [ 0  0  0  0  1  1  0  0  0 43]]\n"
     ]
    }
   ],
   "source": [
    "print(\"Confusion matrix:\\n%s\" % metrics.confusion_matrix(y_test, y_pred))"
   ]
  },
  {
   "cell_type": "code",
   "execution_count": 13,
   "metadata": {},
   "outputs": [
    {
     "output_type": "stream",
     "name": "stdout",
     "text": [
      "[((8, 1), 2), ((8, 3), 1), ((1, 5), 1)]\n"
     ]
    }
   ],
   "source": [
    "# lets see top 3 pairs of digits that are hardest for the classifier to tell apart.\n",
    "\n",
    "import collections as cl\n",
    "import itertools as it\n",
    "\n",
    "y1 = y_test[np.where(y_test!=y_pred)]\n",
    "y2 = y_pred[np.where(y_test!=y_pred)]\n",
    "pairsErrored = np.array(list(zip(y1,y2)))\n",
    "\n",
    "counts = cl.Counter()\n",
    "for sublist in pairsErrored:\n",
    "    counts.update(it.combinations(sublist, 2))\n",
    "\n",
    "print (counts.most_common()[:3])"
   ]
  },
  {
   "cell_type": "code",
   "execution_count": 14,
   "metadata": {},
   "outputs": [],
   "source": [
    "# Looks like there is room for improvment. though the accuracy score was high, the confusion matrix shares some errors.\n",
    "\n",
    "# Let's see if we can fine tune KNN paramters and have further better results"
   ]
  },
  {
   "source": [
    "*** Fine tune parameters ***"
   ],
   "cell_type": "markdown",
   "metadata": {}
  },
  {
   "source": [
    "**** Cross Validation ****"
   ],
   "cell_type": "markdown",
   "metadata": {}
  },
  {
   "cell_type": "code",
   "execution_count": 15,
   "metadata": {},
   "outputs": [
    {
     "output_type": "stream",
     "name": "stdout",
     "text": [
      "[0.99206349 0.96825397 0.98412698 0.98412698 0.96825397 1.\n",
      " 0.98412698 0.992      0.992      0.968     ]\n",
      "[0.99206349 0.97619048 0.98412698 0.98412698 0.96825397 0.99206349\n",
      " 0.97619048 0.992      0.984      0.968     ]\n",
      "[0.99206349 0.98412698 0.98412698 0.99206349 0.97619048 0.98412698\n",
      " 0.97619048 0.984      0.992      0.984     ]\n",
      "[0.99206349 0.97619048 0.97619048 0.98412698 0.96031746 0.98412698\n",
      " 0.96825397 0.984      0.992      0.976     ]\n",
      "[0.99206349 0.97619048 0.99206349 0.98412698 0.95238095 0.99206349\n",
      " 0.96825397 0.976      0.992      0.984     ]\n",
      "[0.99206349 0.97619048 0.97619048 0.98412698 0.95238095 0.99206349\n",
      " 0.97619048 0.968      0.992      0.976     ]\n",
      "[0.99206349 0.97619048 0.98412698 0.99206349 0.95238095 0.99206349\n",
      " 0.97619048 0.976      0.992      0.976     ]\n",
      "Best score for neighbour: 3.000000\n",
      "Accuracy: 0.985185\n"
     ]
    }
   ],
   "source": [
    "from sklearn.model_selection import cross_val_score\n",
    "from sklearn.neighbors import KNeighborsClassifier\n",
    "\n",
    "X_train, X_test, y_train, y_test = train_test_split(X, y, test_size=0.30)\n",
    "\n",
    "neighbors = list(range(1,8))\n",
    "cv_scores = []\n",
    "\n",
    "# perform 10-fold cross validation\n",
    "for k in neighbors:\n",
    "    knn = KNeighborsClassifier(n_neighbors=k)\n",
    "    scores = cross_val_score(knn, X_train, y_train, cv=10, scoring='accuracy')\n",
    "    print(scores)\n",
    "    cv_scores.append(scores.mean())\n",
    "\n",
    "# check cv_scores\n",
    "best_k_index = np.where(cv_scores == np.max(cv_scores))\n",
    "\n",
    "#offset by 1 as index are 0 based and k will start from 1\n",
    "best_k = best_k_index[0][0] + 1\n",
    "print(\"Best score for neighbour: %f\" %best_k)\n",
    "\n",
    "# Train the model\n",
    "clf = KNeighborsClassifier(n_neighbors=best_k)\n",
    "clf = clf.fit(X_train, y_train)\n",
    "y_pred = clf.predict(X_test)\n",
    "\n",
    "# Performance\n",
    "print(\"Accuracy: %f\"%accuracy_score(y_test, y_pred))"
   ]
  },
  {
   "cell_type": "code",
   "execution_count": 16,
   "metadata": {},
   "outputs": [],
   "source": [
    "# seems optimum n=1 from above trials"
   ]
  },
  {
   "cell_type": "code",
   "execution_count": 17,
   "metadata": {},
   "outputs": [
    {
     "output_type": "stream",
     "name": "stdout",
     "text": [
      "Confusion matrix:\n[[49  0  0  0  0  0  0  0  0  0]\n [ 0 54  0  0  0  0  0  0  0  0]\n [ 0  0 57  0  0  0  0  0  0  0]\n [ 0  0  0 55  0  0  0  0  1  1]\n [ 0  0  0  0 51  0  0  0  0  0]\n [ 0  0  0  0  0 47  0  0  0  1]\n [ 0  0  0  0  0  0 57  0  0  0]\n [ 0  0  0  0  0  0  0 53  0  1]\n [ 0  2  0  1  0  0  0  0 53  0]\n [ 0  0  0  0  1  0  0  0  0 56]]\n"
     ]
    }
   ],
   "source": [
    "print(\"Confusion matrix:\\n%s\" % metrics.confusion_matrix(y_test, y_pred))"
   ]
  },
  {
   "source": [
    "**** GridSearchCV ****"
   ],
   "cell_type": "markdown",
   "metadata": {}
  },
  {
   "cell_type": "code",
   "execution_count": 18,
   "metadata": {},
   "outputs": [],
   "source": [
    "# We tune both the number of neighbors and the norm used for the distance.\n",
    "# We will mix cross-validation too\n",
    "from sklearn.neighbors import KNeighborsClassifier\n",
    "from sklearn.model_selection import GridSearchCV\n",
    "\n",
    "#All 5x2 = 10 combinations of parameter values will be evaluated.\n",
    "parameters = {'n_neighbors':[1,2,3,4,5], 'p':[1, 2]}\n",
    "clf = GridSearchCV(KNeighborsClassifier(), parameters, cv=10) \n",
    "# best_model = clf.fit(X,y) #Searches for the model with the best parameters\n",
    "clf.fit(X,y)\n",
    "best_model=clf.best_estimator_"
   ]
  },
  {
   "cell_type": "code",
   "execution_count": 19,
   "metadata": {},
   "outputs": [
    {
     "output_type": "execute_result",
     "data": {
      "text/plain": [
       "KNeighborsClassifier(n_neighbors=3)"
      ]
     },
     "metadata": {},
     "execution_count": 19
    }
   ],
   "source": [
    "## We see that best parameters are n_neighbors=3 and p=2.\n",
    "best_model"
   ]
  },
  {
   "cell_type": "code",
   "execution_count": 20,
   "metadata": {},
   "outputs": [
    {
     "output_type": "stream",
     "name": "stdout",
     "text": [
      "Accuracy: 0.985185\n"
     ]
    }
   ],
   "source": [
    "# Train the model\n",
    "clf = KNeighborsClassifier(n_neighbors=3,p=2)  \n",
    "clf = clf.fit(X_train, y_train)\n",
    "y_pred = clf.predict(X_test)\n",
    "\n",
    "# Performance\n",
    "print(\"Accuracy: %f\"%accuracy_score(y_test, y_pred))"
   ]
  },
  {
   "cell_type": "code",
   "execution_count": 21,
   "metadata": {},
   "outputs": [
    {
     "output_type": "stream",
     "name": "stdout",
     "text": [
      "The following pairs where confused 2 times: (8, 1),(8, 3)\n"
     ]
    }
   ],
   "source": [
    "## Confused pair of digits\n",
    "from sklearn.metrics import confusion_matrix\n",
    "\n",
    "num_labels = 10\n",
    "cm = confusion_matrix(y_test, y_pred)\n",
    "err_count={}\n",
    "\n",
    "for i in range(num_labels):\n",
    "    for j in range(i):\n",
    "        err_count[(i,j)] = cm[i][j] + cm[j][i]\n",
    "\n",
    "highest_count = max(err_count.items(), key=(lambda x: x[1]))[1] \n",
    "confused_pairs = [k for k,v in err_count.items() if v == highest_count]\n",
    "\n",
    "print(\"The following pairs where confused %d times: \"%highest_count, end='')\n",
    "print( *confused_pairs , sep=\",\")"
   ]
  },
  {
   "cell_type": "code",
   "execution_count": 22,
   "metadata": {},
   "outputs": [
    {
     "output_type": "stream",
     "name": "stdout",
     "text": [
      "Confusion matrix:\n[[49  0  0  0  0  0  0  0  0  0]\n [ 0 54  0  0  0  0  0  0  0  0]\n [ 0  0 57  0  0  0  0  0  0  0]\n [ 0  0  0 55  0  0  0  0  1  1]\n [ 0  0  0  0 51  0  0  0  0  0]\n [ 0  0  0  0  0 47  0  0  0  1]\n [ 0  0  0  0  0  0 57  0  0  0]\n [ 0  0  0  0  0  0  0 53  0  1]\n [ 0  2  0  1  0  0  0  0 53  0]\n [ 0  0  0  0  1  0  0  0  0 56]]\n"
     ]
    }
   ],
   "source": [
    "print(\"Confusion matrix:\\n%s\" % metrics.confusion_matrix(y_test, y_pred))"
   ]
  },
  {
   "cell_type": "code",
   "execution_count": 23,
   "metadata": {},
   "outputs": [
    {
     "output_type": "stream",
     "name": "stdout",
     "text": [
      "[((8, 1), 2), ((9, 4), 1), ((3, 9), 1)]\n"
     ]
    }
   ],
   "source": [
    "#another way\n",
    "y1 = y_test[np.where(y_test!=y_pred)]\n",
    "y2 = y_pred[np.where(y_test!=y_pred)]\n",
    "pairsErrored = np.array(list(zip(y1,y2)))\n",
    "\n",
    "counts = cl.Counter()\n",
    "for sublist in pairsErrored:\n",
    "    counts.update(it.combinations(sublist, 2))\n",
    "\n",
    "print (counts.most_common()[:3])"
   ]
  },
  {
   "cell_type": "code",
   "execution_count": 24,
   "metadata": {},
   "outputs": [],
   "source": [
    "# We tried fine tuning and had preety decent results."
   ]
  }
 ]
}