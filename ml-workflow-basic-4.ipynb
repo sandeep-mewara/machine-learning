{
 "metadata": {
  "language_info": {
   "codemirror_mode": {
    "name": "ipython",
    "version": 3
   },
   "file_extension": ".py",
   "mimetype": "text/x-python",
   "name": "python",
   "nbconvert_exporter": "python",
   "pygments_lexer": "ipython3",
   "version": "3.8.5-final"
  },
  "orig_nbformat": 2,
  "kernelspec": {
   "name": "Python 3.8.5 64-bit",
   "display_name": "Python 3.8.5 64-bit",
   "metadata": {
    "interpreter": {
     "hash": "1ee38ef4a5a9feb55287fd749643f13d043cb0a7addaab2a9c224cbe137c0062"
    }
   }
  }
 },
 "nbformat": 4,
 "nbformat_minor": 2,
 "cells": [
  {
   "source": [
    "## Machine Learning Basic Workflow - 4"
   ],
   "cell_type": "markdown",
   "metadata": {}
  },
  {
   "source": [
    "### Lets play with Bread Basket Bakery dataset\n",
    "#### We will use ML to assess the bakery transactions"
   ],
   "cell_type": "markdown",
   "metadata": {}
  },
  {
   "source": [
    "The dataset for this problem comes from a bakery in Edinburgh called The Bread Basket (Source: Kaggle). Data set contains over 20,000 items bought over period of six months. The .csv file has the following four fields:\n",
    "\n",
    "Date. Categorical variable that tells us the date of the transactions in YYYY-MM-DD format.\n",
    "\n",
    "Time. Categorical variable that tells us the time of the transactions (HH:MM:SS format).\n",
    "\n",
    "Transaction. Contains an integer value that denotes the transaction number. The rows that share the same value in this field belong to the same transaction.\n",
    "\n",
    "Item. Name of the item purchased. For example, 'Bread', 'Cake', 'Coffee', etc."
   ],
   "cell_type": "markdown",
   "metadata": {}
  },
  {
   "cell_type": "code",
   "execution_count": 1,
   "metadata": {},
   "outputs": [],
   "source": [
    "import numpy as np\n",
    "import pandas as pd\n",
    "\n",
    "import matplotlib.pyplot as plt"
   ]
  },
  {
   "source": [
    "*** Load data ***"
   ],
   "cell_type": "markdown",
   "metadata": {}
  },
  {
   "cell_type": "code",
   "execution_count": 2,
   "metadata": {},
   "outputs": [
    {
     "output_type": "stream",
     "name": "stdout",
     "text": [
      "<class 'pandas.core.frame.DataFrame'>\nRangeIndex: 21293 entries, 0 to 21292\nData columns (total 4 columns):\n #   Column       Non-Null Count  Dtype \n---  ------       --------------  ----- \n 0   Date         21293 non-null  object\n 1   Time         21293 non-null  object\n 2   Transaction  21293 non-null  int64 \n 3   Item         21293 non-null  object\ndtypes: int64(1), object(3)\nmemory usage: 665.5+ KB\nNone\n"
     ]
    }
   ],
   "source": [
    "bakerydf = pd.read_csv(\"data-files/bb-bakery.csv\")\n",
    "print(bakerydf.info())"
   ]
  },
  {
   "cell_type": "code",
   "execution_count": null,
   "metadata": {},
   "outputs": [],
   "source": [
    "bakerydf.head(3)"
   ]
  },
  {
   "source": [
    "*** Data cleanup - Drop the irrelevant columns ***"
   ],
   "cell_type": "markdown",
   "metadata": {}
  },
  {
   "cell_type": "code",
   "execution_count": null,
   "metadata": {},
   "outputs": [],
   "source": []
  },
  {
   "source": [
    "***Data transform - Ordinal/Nominal/Datatype, etc ***"
   ],
   "cell_type": "markdown",
   "metadata": {}
  },
  {
   "cell_type": "code",
   "execution_count": null,
   "metadata": {},
   "outputs": [],
   "source": []
  },
  {
   "source": [
    "*** Data Imputation - Fill the missing values ***"
   ],
   "cell_type": "markdown",
   "metadata": {}
  },
  {
   "cell_type": "code",
   "execution_count": null,
   "metadata": {},
   "outputs": [],
   "source": []
  },
  {
   "source": [
    "*** Split data - Train/Test dataset ***"
   ],
   "cell_type": "markdown",
   "metadata": {}
  },
  {
   "cell_type": "code",
   "execution_count": null,
   "metadata": {},
   "outputs": [],
   "source": []
  },
  {
   "source": [
    "*** Run ML algorithm data ***"
   ],
   "cell_type": "markdown",
   "metadata": {}
  },
  {
   "cell_type": "code",
   "execution_count": null,
   "metadata": {},
   "outputs": [],
   "source": []
  },
  {
   "source": [
    "*** Check the accuracy of model ***"
   ],
   "cell_type": "markdown",
   "metadata": {}
  },
  {
   "cell_type": "code",
   "execution_count": null,
   "metadata": {},
   "outputs": [],
   "source": []
  },
  {
   "cell_type": "code",
   "execution_count": null,
   "metadata": {},
   "outputs": [],
   "source": []
  }
 ]
}